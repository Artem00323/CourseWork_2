{
 "cells": [
  {
   "cell_type": "code",
   "execution_count": 2,
   "id": "7f772f1f",
   "metadata": {},
   "outputs": [],
   "source": [
    "#!pip install geemap"
   ]
  },
  {
   "cell_type": "markdown",
   "id": "b84fa9b3",
   "metadata": {},
   "source": [
    "**1. Installing libraries**"
   ]
  },
  {
   "cell_type": "code",
   "execution_count": 1,
   "id": "63b5cd69",
   "metadata": {},
   "outputs": [],
   "source": [
    "import os\n",
    "import ee\n",
    "import geemap\n",
    "import pandas as pd\n",
    "import numpy as np"
   ]
  },
  {
   "cell_type": "code",
   "execution_count": 2,
   "id": "8bbc4faf",
   "metadata": {},
   "outputs": [],
   "source": [
    "# geemap.update_package()"
   ]
  },
  {
   "cell_type": "markdown",
   "id": "59dac82b",
   "metadata": {},
   "source": [
    "**2. Authenticate and initialize Earth Engine**"
   ]
  },
  {
   "cell_type": "code",
   "execution_count": 3,
   "id": "07b707c6",
   "metadata": {},
   "outputs": [
    {
     "data": {
      "text/html": [
       "<p>To authorize access needed by Earth Engine, open the following\n",
       "        URL in a web browser and follow the instructions:</p>\n",
       "        <p><a href=https://code.earthengine.google.com/client-auth?scopes=https%3A//www.googleapis.com/auth/earthengine%20https%3A//www.googleapis.com/auth/devstorage.full_control&request_id=HHhOcxf1V2YrfWasebJj1NE36TrBsi4TRwo5vMJH4Jo&tc=o890-nSeBpNm2iyjvoMdiqKV0-JSAgZ7G4jUM08CpJM&cc=TSMKBbtbIllQzA59qGN-A5NeLLexwO2VcGqsFt1LjV4>https://code.earthengine.google.com/client-auth?scopes=https%3A//www.googleapis.com/auth/earthengine%20https%3A//www.googleapis.com/auth/devstorage.full_control&request_id=HHhOcxf1V2YrfWasebJj1NE36TrBsi4TRwo5vMJH4Jo&tc=o890-nSeBpNm2iyjvoMdiqKV0-JSAgZ7G4jUM08CpJM&cc=TSMKBbtbIllQzA59qGN-A5NeLLexwO2VcGqsFt1LjV4</a></p>\n",
       "        <p>The authorization workflow will generate a code, which you should paste in the box below.</p>\n",
       "        "
      ],
      "text/plain": [
       "<IPython.core.display.HTML object>"
      ]
     },
     "metadata": {},
     "output_type": "display_data"
    },
    {
     "name": "stdout",
     "output_type": "stream",
     "text": [
      "Enter verification code: 4/1AWtgzh6f7bvtlhtK5jvjziXUxIOpK1fzpPycDqPJgblnPjI52I7MNu_SqM8\n",
      "\n",
      "Successfully saved authorization token.\n"
     ]
    }
   ],
   "source": [
    "ee.Authenticate()"
   ]
  },
  {
   "cell_type": "code",
   "execution_count": 4,
   "id": "9a0fe926",
   "metadata": {},
   "outputs": [],
   "source": [
    "ee.Initialize()"
   ]
  },
  {
   "cell_type": "markdown",
   "id": "6166179a",
   "metadata": {},
   "source": [
    "**3. Converting JS code -> Python**"
   ]
  },
  {
   "cell_type": "code",
   "execution_count": 8,
   "id": "9cbf9aaa",
   "metadata": {},
   "outputs": [],
   "source": [
    "# js_snippet = \"\"\"\n",
    "# var maskL8sr = function(image) {\n",
    "#   // Bit 0 - Fill\n",
    "#   // Bit 1 - Dilated Cloud\n",
    "#   // Bit 2 - Cirrus\n",
    "#   // Bit 3 - Cloud\n",
    "#   // Bit 4 - Cloud Shadow\n",
    "#   var qaMask = image.select('QA_PIXEL').bitwiseAnd(parseInt('11111', 2)).eq(0);\n",
    "#   var saturationMask = image.select('QA_RADSAT').eq(0);\n",
    "\n",
    "#   // Apply the scaling factors to the appropriate bands.\n",
    "#   var opticalBands = image.select('SR_B.').multiply(0.0000275).add(-0.2);\n",
    "#   var thermalBands = image.select('ST_B.*').multiply(0.00341802).add(149.0);\n",
    "\n",
    "#   // Replace the original bands with the scaled ones and apply the masks.\n",
    "#   return image.addBands(opticalBands, null, true)\n",
    "#     .addBands(thermalBands, null, true)\n",
    "#     .updateMask(qaMask)\n",
    "#     .updateMask(saturationMask);\n",
    "# };\n",
    "# \"\"\"\n",
    "# geemap.js_snippet_to_py(\n",
    "#     js_snippet, add_new_cell=True, import_ee=True, import_geemap=True, show_map=True\n",
    "# )"
   ]
  },
  {
   "cell_type": "markdown",
   "id": "eda622d7",
   "metadata": {},
   "source": [
    "**Creating Region Of Interest = USA, & map**"
   ]
  },
  {
   "cell_type": "code",
   "execution_count": 5,
   "id": "bcaec1fa",
   "metadata": {},
   "outputs": [],
   "source": [
    "countries = ee.FeatureCollection(\"USDOS/LSIB_SIMPLE/2017\");\n",
    "roi = countries.filter(ee.Filter.eq(\"country_na\", \"United States\"))\n",
    "\n",
    "Map = geemap.Map()"
   ]
  },
  {
   "cell_type": "markdown",
   "id": "effe3abc",
   "metadata": {},
   "source": [
    "**Initializing dataset (landsat 8)**"
   ]
  },
  {
   "cell_type": "code",
   "execution_count": 36,
   "id": "d2a67ad1",
   "metadata": {},
   "outputs": [
    {
     "name": "stdout",
     "output_type": "stream",
     "text": [
      "CPU times: user 2 µs, sys: 1 µs, total: 3 µs\n",
      "Wall time: 12.6 µs\n"
     ]
    },
    {
     "data": {
      "application/vnd.jupyter.widget-view+json": {
       "model_id": "d8547c6adb474c5bae2dbdc283b1e769",
       "version_major": 2,
       "version_minor": 0
      },
      "text/plain": [
       "Map(bottom=1854.0, center=[39.76850680995396, -99.05366228420321], controls=(WidgetControl(options=['position'…"
      ]
     },
     "metadata": {},
     "output_type": "display_data"
    }
   ],
   "source": [
    "%time\n",
    "\n",
    "# adding time to image\n",
    "\n",
    "\n",
    "# Applies scaling factors.\n",
    "def applyScaleFactors(image):\n",
    "  opticalBands = image.select('SR_B.').multiply(0.0000275).add(-0.2)\n",
    "  thermalBands = image.select('ST_B10').multiply(0.00341802).add(149.0)\n",
    "  LonLat = image.pixelLonLat()\n",
    "  image = image.addBands(opticalBands, None, True) \\\n",
    "              .addBands(thermalBands, None, True) \\\n",
    "              .addBands(LonLat) \\\n",
    "              .clip(roi) \n",
    "  return image\n",
    "\n",
    "def addDate(image):\n",
    "    time = image.metadata('system:time_start')\n",
    "    return image.addBands(time.rename('time'))\n",
    "\n",
    "\n",
    "\n",
    "bands = ['SR_B1', 'SR_B2', 'SR_B3', 'SR_B4', 'SR_B5', 'SR_B6', 'SR_B7', 'longitude', 'latitude', 'time']\n",
    "\n",
    "\n",
    "\n",
    "dataset = ee.ImageCollection('LANDSAT/LC08/C02/T1_L2') \\\n",
    "    .filterDate('2021-05-01', '2021-06-01') \\\n",
    "    .filterBounds(roi) \\\n",
    "    .map(applyScaleFactors) \\\n",
    "    .map(addDate) \\\n",
    "    .select(bands) \\\n",
    "    .mosaic()\n",
    "\n",
    "visualization = {\n",
    "  'bands': ['SR_B4', 'SR_B3', 'SR_B2'],\n",
    "  'min': 0.0,\n",
    "  'max': 0.3,\n",
    "}\n",
    "\n",
    "Map.centerObject(roi, 4)\n",
    "Map.addLayer(dataset, visualization, 'Landsat 8')\n",
    "\n",
    "\n",
    "Map\n"
   ]
  },
  {
   "cell_type": "markdown",
   "id": "1dc81cc6",
   "metadata": {},
   "source": [
    "**Extracting data of US cities**"
   ]
  },
  {
   "cell_type": "code",
   "execution_count": 37,
   "id": "3f5a0f30",
   "metadata": {},
   "outputs": [
    {
     "name": "stdout",
     "output_type": "stream",
     "text": [
      "CPU times: user 717 ms, sys: 44.4 ms, total: 761 ms\n",
      "Wall time: 8.96 s\n"
     ]
    }
   ],
   "source": [
    "%%time\n",
    "work_dir = os.path.expanduser('/Users/artemzaharov/opt/miniconda3/envs/project_gee/data')\n",
    "in_shp = os.path.join(work_dir, 'us_cities.shp')\n",
    "if not os.path.exists(in_shp):\n",
    "    data_url = 'https://github.com/giswqs/data/raw/main/us/us_cities.zip'\n",
    "    geemap.download_from_url(data_url, out_dir=work_dir)\n",
    "    \n",
    "in_fc = geemap.shp_to_ee(in_shp)\n",
    "Map.addLayer(in_fc, {}, 'Cities')"
   ]
  },
  {
   "cell_type": "markdown",
   "id": "405fb90b",
   "metadata": {},
   "source": [
    "**Export pixel values to csv**"
   ]
  },
  {
   "cell_type": "code",
   "execution_count": 39,
   "id": "cd174f58",
   "metadata": {},
   "outputs": [
    {
     "data": {
      "text/html": [
       "<div><style>:root {\n",
       "  --font-color-primary: var(--jp-content-font-color0, rgba(0, 0, 0, 1));\n",
       "  --font-color-secondary: var(--jp-content-font-color2, rgba(0, 0, 0, 0.6));\n",
       "  --font-color-accent: rgba(123, 31, 162, 1);\n",
       "  --border-color: var(--jp-border-color2, #e0e0e0);\n",
       "  --background-color: var(--jp-layout-color0, white);\n",
       "  --background-color-row-even: var(--jp-layout-color1, white);\n",
       "  --background-color-row-odd: var(--jp-layout-color2, #eeeeee);\n",
       "}\n",
       "\n",
       "html[theme=\"dark\"],\n",
       "body[data-theme=\"dark\"],\n",
       "body.vscode-dark {\n",
       "  --font-color-primary: rgba(255, 255, 255, 1);\n",
       "  --font-color-secondary: rgba(255, 255, 255, 0.6);\n",
       "  --font-color-accent: rgb(173, 132, 190);\n",
       "  --border-color: #2e2e2e;\n",
       "  --background-color: #111111;\n",
       "  --background-color-row-even: #111111;\n",
       "  --background-color-row-odd: #313131;\n",
       "}\n",
       "\n",
       ".ee {\n",
       "  padding: 1em;\n",
       "  line-height: 1.5em;\n",
       "  min-width: 300px;\n",
       "  max-width: 1200px;\n",
       "  overflow-y: scroll;\n",
       "  max-height: 600px;\n",
       "  border: 1px solid var(--border-color);\n",
       "  font-family: monospace;\n",
       "}\n",
       "\n",
       ".ee li {\n",
       "  list-style-type: none;\n",
       "}\n",
       "\n",
       ".ee ul {\n",
       "  padding-left: 1.5em !important;\n",
       "  margin: 0;\n",
       "}\n",
       "\n",
       ".ee > ul {\n",
       "  padding-left: 0 !important;\n",
       "}\n",
       "\n",
       ".ee-open,\n",
       ".ee-shut {\n",
       "  color: var(--font-color-secondary);\n",
       "  cursor: pointer;\n",
       "  margin: 0;\n",
       "}\n",
       "\n",
       ".ee-open:hover,\n",
       ".ee-shut:hover {\n",
       "  color: var(--font-color-primary);\n",
       "}\n",
       "\n",
       ".ee-k {\n",
       "  color: var(--font-color-accent);\n",
       "  margin-right: 6px;\n",
       "}\n",
       "\n",
       ".ee-v {\n",
       "  color: var(--font-color-primary);\n",
       "}\n",
       "\n",
       ".ee-toggle {\n",
       "  display: none;\n",
       "}\n",
       "\n",
       ".ee-shut + ul {\n",
       "  display: none;\n",
       "}\n",
       "\n",
       ".ee-open + ul {\n",
       "  display: block;\n",
       "}\n",
       "\n",
       ".ee-shut::before {\n",
       "  display: inline-block;\n",
       "  content: \"▼\";\n",
       "  margin-right: 6px;\n",
       "  transform: rotate(-90deg);\n",
       "  transition: transform 0.2s;\n",
       "}\n",
       "\n",
       ".ee-open::before {\n",
       "  transform: rotate(0deg);\n",
       "  display: inline-block;\n",
       "  content: \"▼\";\n",
       "  margin-right: 6px;\n",
       "  transition: transform 0.2s;\n",
       "}\n",
       "</style><div class='ee'><ul><li><label class='ee-shut'>List (10 elements)<input type='checkbox' class='ee-toggle'></label><ul><li><span class='ee-k'>0:</span><span class='ee-v'>SR_B1</span></li><li><span class='ee-k'>1:</span><span class='ee-v'>SR_B2</span></li><li><span class='ee-k'>2:</span><span class='ee-v'>SR_B3</span></li><li><span class='ee-k'>3:</span><span class='ee-v'>SR_B4</span></li><li><span class='ee-k'>4:</span><span class='ee-v'>SR_B5</span></li><li><span class='ee-k'>5:</span><span class='ee-v'>SR_B6</span></li><li><span class='ee-k'>6:</span><span class='ee-v'>SR_B7</span></li><li><span class='ee-k'>7:</span><span class='ee-v'>longitude</span></li><li><span class='ee-k'>8:</span><span class='ee-v'>latitude</span></li><li><span class='ee-k'>9:</span><span class='ee-v'>time</span></li></ul></li></ul></div><script>function toggleHeader() {\n",
       "    const parent = this.parentElement;\n",
       "    parent.className = parent.className === \"ee-open\" ? \"ee-shut\" : \"ee-open\";\n",
       "}\n",
       "\n",
       "for (let c of document.getElementsByClassName(\"ee-toggle\")) {\n",
       "    c.onclick = toggleHeader;\n",
       "}</script></div>"
      ],
      "text/plain": [
       "<ee.ee_list.List at 0x12f4004c0>"
      ]
     },
     "execution_count": 39,
     "metadata": {},
     "output_type": "execute_result"
    }
   ],
   "source": [
    "dataset.bandNames()"
   ]
  },
  {
   "cell_type": "code",
   "execution_count": 41,
   "id": "a44afdd5",
   "metadata": {},
   "outputs": [
    {
     "name": "stdout",
     "output_type": "stream",
     "text": [
      "Generating URL ...\n",
      "Downloading data from https://earthengine.googleapis.com/v1alpha/projects/earthengine-legacy/tables/6b53b0984a76b064d1910f61e9dfb6c3-30626461828c97849e76b93004cf878d:getFeatures\n",
      "Please wait ...\n",
      "Data downloaded to /Users/artemzaharov/opt/miniconda3/envs/project_gee/data/Landsat8.csv\n",
      "CPU times: user 2.21 s, sys: 290 ms, total: 2.5 s\n",
      "Wall time: 1min 3s\n"
     ]
    }
   ],
   "source": [
    "%%time\n",
    "out_csv = os.path.join(work_dir, 'Landsat8.csv')\n",
    "geemap.extract_values_to_points(in_fc, dataset, out_csv, 30)"
   ]
  },
  {
   "cell_type": "code",
   "execution_count": 10,
   "id": "b301cf12",
   "metadata": {},
   "outputs": [],
   "source": [
    "df_Landsat = pd.read_csv('/Users/artemzaharov/opt/miniconda3/envs/project_gee/data/Landsat8.csv')\n",
    "df_Landsat = df_Landsat.dropna(in_fc)"
   ]
  },
  {
   "cell_type": "code",
   "execution_count": 495,
   "id": "bb7f6849",
   "metadata": {},
   "outputs": [],
   "source": [
    "import datetime\n",
    "# converting date dd.mm.YY\n",
    "def convertDate(value):\n",
    "    time = datetime.datetime.fromtimestamp(value/1000.0)\n",
    "    return time.strftime('%Y-%m-%d')\n",
    "df_Landsat['date'] = df_Landsat['time'].apply(convertDate)\n",
    "\n",
    "# converting date HH:MM:SS\n",
    "def convertTime(value):\n",
    "    time = datetime.datetime.fromtimestamp(value/1000.0)\n",
    "    return time.strftime('%H:00') # %H:%M:%S\n",
    "df_Landsat['time'] = df_Landsat['time'].apply(convertTime)\n",
    "\n",
    "# moving time and date to the front of the table\n",
    "df_Landsat = df_Landsat[['time'] + [x for x in df_Landsat.columns if x != 'time']]\n",
    "df_Landsat = df_Landsat[['date'] + [x for x in df_Landsat.columns if x != 'date']]\n"
   ]
  },
  {
   "cell_type": "code",
   "execution_count": 496,
   "id": "5bfab24e",
   "metadata": {},
   "outputs": [],
   "source": [
    "df_epa = pd.read_csv('/Users/artemzaharov/opt/miniconda3/envs/project_gee/data/hourly_81102_2021.csv')"
   ]
  },
  {
   "cell_type": "code",
   "execution_count": 497,
   "id": "5bb7f8bd",
   "metadata": {},
   "outputs": [
    {
     "data": {
      "text/html": [
       "<div>\n",
       "<style scoped>\n",
       "    .dataframe tbody tr th:only-of-type {\n",
       "        vertical-align: middle;\n",
       "    }\n",
       "\n",
       "    .dataframe tbody tr th {\n",
       "        vertical-align: top;\n",
       "    }\n",
       "\n",
       "    .dataframe thead th {\n",
       "        text-align: right;\n",
       "    }\n",
       "</style>\n",
       "<table border=\"1\" class=\"dataframe\">\n",
       "  <thead>\n",
       "    <tr style=\"text-align: right;\">\n",
       "      <th></th>\n",
       "      <th>date</th>\n",
       "      <th>time</th>\n",
       "      <th>SR_B1</th>\n",
       "      <th>SR_B2</th>\n",
       "      <th>SR_B3</th>\n",
       "      <th>SR_B4</th>\n",
       "      <th>SR_B5</th>\n",
       "      <th>SR_B6</th>\n",
       "      <th>SR_B7</th>\n",
       "      <th>longitude</th>\n",
       "      <th>latitude</th>\n",
       "      <th>system:index</th>\n",
       "      <th>STATE</th>\n",
       "      <th>ELEV_IN_FT</th>\n",
       "      <th>POP_2010</th>\n",
       "      <th>id</th>\n",
       "    </tr>\n",
       "  </thead>\n",
       "  <tbody>\n",
       "    <tr>\n",
       "      <th>0</th>\n",
       "      <td>2021-05-27</td>\n",
       "      <td>20:00</td>\n",
       "      <td>0.591643</td>\n",
       "      <td>0.579487</td>\n",
       "      <td>0.570275</td>\n",
       "      <td>0.566288</td>\n",
       "      <td>0.580753</td>\n",
       "      <td>0.235682</td>\n",
       "      <td>0.261395</td>\n",
       "      <td>-101.296142</td>\n",
       "      <td>48.232389</td>\n",
       "      <td>0</td>\n",
       "      <td>ND</td>\n",
       "      <td>1611</td>\n",
       "      <td>40888</td>\n",
       "      <td>53</td>\n",
       "    </tr>\n",
       "    <tr>\n",
       "      <th>1</th>\n",
       "      <td>2021-05-22</td>\n",
       "      <td>20:00</td>\n",
       "      <td>0.972435</td>\n",
       "      <td>0.972160</td>\n",
       "      <td>0.926565</td>\n",
       "      <td>0.917435</td>\n",
       "      <td>0.908085</td>\n",
       "      <td>0.552565</td>\n",
       "      <td>0.352887</td>\n",
       "      <td>-97.032738</td>\n",
       "      <td>47.925165</td>\n",
       "      <td>1</td>\n",
       "      <td>ND</td>\n",
       "      <td>830</td>\n",
       "      <td>52838</td>\n",
       "      <td>101</td>\n",
       "    </tr>\n",
       "    <tr>\n",
       "      <th>2</th>\n",
       "      <td>2021-05-29</td>\n",
       "      <td>20:00</td>\n",
       "      <td>0.991273</td>\n",
       "      <td>0.981070</td>\n",
       "      <td>0.927913</td>\n",
       "      <td>0.914960</td>\n",
       "      <td>0.895655</td>\n",
       "      <td>0.519373</td>\n",
       "      <td>0.403817</td>\n",
       "      <td>-98.708455</td>\n",
       "      <td>46.910518</td>\n",
       "      <td>2</td>\n",
       "      <td>ND</td>\n",
       "      <td>1407</td>\n",
       "      <td>15427</td>\n",
       "      <td>153</td>\n",
       "    </tr>\n",
       "    <tr>\n",
       "      <th>3</th>\n",
       "      <td>2021-05-22</td>\n",
       "      <td>20:00</td>\n",
       "      <td>0.545525</td>\n",
       "      <td>0.547285</td>\n",
       "      <td>0.534415</td>\n",
       "      <td>0.542775</td>\n",
       "      <td>0.608693</td>\n",
       "      <td>0.533287</td>\n",
       "      <td>0.451997</td>\n",
       "      <td>-96.789924</td>\n",
       "      <td>46.877101</td>\n",
       "      <td>3</td>\n",
       "      <td>ND</td>\n",
       "      <td>902</td>\n",
       "      <td>105549</td>\n",
       "      <td>177</td>\n",
       "    </tr>\n",
       "    <tr>\n",
       "      <th>4</th>\n",
       "      <td>2021-05-18</td>\n",
       "      <td>20:00</td>\n",
       "      <td>0.055365</td>\n",
       "      <td>0.084817</td>\n",
       "      <td>0.144575</td>\n",
       "      <td>0.161268</td>\n",
       "      <td>0.178207</td>\n",
       "      <td>0.218825</td>\n",
       "      <td>0.213188</td>\n",
       "      <td>-102.789681</td>\n",
       "      <td>46.879257</td>\n",
       "      <td>4</td>\n",
       "      <td>ND</td>\n",
       "      <td>2411</td>\n",
       "      <td>17787</td>\n",
       "      <td>192</td>\n",
       "    </tr>\n",
       "  </tbody>\n",
       "</table>\n",
       "</div>"
      ],
      "text/plain": [
       "         date   time     SR_B1     SR_B2     SR_B3     SR_B4     SR_B5  \\\n",
       "0  2021-05-27  20:00  0.591643  0.579487  0.570275  0.566288  0.580753   \n",
       "1  2021-05-22  20:00  0.972435  0.972160  0.926565  0.917435  0.908085   \n",
       "2  2021-05-29  20:00  0.991273  0.981070  0.927913  0.914960  0.895655   \n",
       "3  2021-05-22  20:00  0.545525  0.547285  0.534415  0.542775  0.608693   \n",
       "4  2021-05-18  20:00  0.055365  0.084817  0.144575  0.161268  0.178207   \n",
       "\n",
       "      SR_B6     SR_B7   longitude   latitude  system:index STATE  ELEV_IN_FT  \\\n",
       "0  0.235682  0.261395 -101.296142  48.232389             0    ND        1611   \n",
       "1  0.552565  0.352887  -97.032738  47.925165             1    ND         830   \n",
       "2  0.519373  0.403817  -98.708455  46.910518             2    ND        1407   \n",
       "3  0.533287  0.451997  -96.789924  46.877101             3    ND         902   \n",
       "4  0.218825  0.213188 -102.789681  46.879257             4    ND        2411   \n",
       "\n",
       "   POP_2010   id  \n",
       "0     40888   53  \n",
       "1     52838  101  \n",
       "2     15427  153  \n",
       "3    105549  177  \n",
       "4     17787  192  "
      ]
     },
     "execution_count": 497,
     "metadata": {},
     "output_type": "execute_result"
    }
   ],
   "source": [
    "df_Landsat.head()"
   ]
  },
  {
   "cell_type": "code",
   "execution_count": 498,
   "id": "778347ca",
   "metadata": {},
   "outputs": [
    {
     "data": {
      "text/html": [
       "<div>\n",
       "<style scoped>\n",
       "    .dataframe tbody tr th:only-of-type {\n",
       "        vertical-align: middle;\n",
       "    }\n",
       "\n",
       "    .dataframe tbody tr th {\n",
       "        vertical-align: top;\n",
       "    }\n",
       "\n",
       "    .dataframe thead th {\n",
       "        text-align: right;\n",
       "    }\n",
       "</style>\n",
       "<table border=\"1\" class=\"dataframe\">\n",
       "  <thead>\n",
       "    <tr style=\"text-align: right;\">\n",
       "      <th></th>\n",
       "      <th>State Code</th>\n",
       "      <th>County Code</th>\n",
       "      <th>Site Num</th>\n",
       "      <th>Parameter Code</th>\n",
       "      <th>POC</th>\n",
       "      <th>Latitude</th>\n",
       "      <th>Longitude</th>\n",
       "      <th>Datum</th>\n",
       "      <th>Parameter Name</th>\n",
       "      <th>Date Local</th>\n",
       "      <th>...</th>\n",
       "      <th>Units of Measure</th>\n",
       "      <th>MDL</th>\n",
       "      <th>Uncertainty</th>\n",
       "      <th>Qualifier</th>\n",
       "      <th>Method Type</th>\n",
       "      <th>Method Code</th>\n",
       "      <th>Method Name</th>\n",
       "      <th>State Name</th>\n",
       "      <th>County Name</th>\n",
       "      <th>Date of Last Change</th>\n",
       "    </tr>\n",
       "  </thead>\n",
       "  <tbody>\n",
       "    <tr>\n",
       "      <th>0</th>\n",
       "      <td>1</td>\n",
       "      <td>73</td>\n",
       "      <td>23</td>\n",
       "      <td>81102</td>\n",
       "      <td>4</td>\n",
       "      <td>33.553056</td>\n",
       "      <td>-86.815</td>\n",
       "      <td>WGS84</td>\n",
       "      <td>PM10 Total 0-10um STP</td>\n",
       "      <td>2021-01-01</td>\n",
       "      <td>...</td>\n",
       "      <td>Micrograms/cubic meter (25 C)</td>\n",
       "      <td>0.1</td>\n",
       "      <td>NaN</td>\n",
       "      <td>NaN</td>\n",
       "      <td>FEM</td>\n",
       "      <td>239</td>\n",
       "      <td>Teledyne API T640X at 16.67 LPM - Broadband sp...</td>\n",
       "      <td>Alabama</td>\n",
       "      <td>Jefferson</td>\n",
       "      <td>2021-04-20</td>\n",
       "    </tr>\n",
       "    <tr>\n",
       "      <th>1</th>\n",
       "      <td>1</td>\n",
       "      <td>73</td>\n",
       "      <td>23</td>\n",
       "      <td>81102</td>\n",
       "      <td>4</td>\n",
       "      <td>33.553056</td>\n",
       "      <td>-86.815</td>\n",
       "      <td>WGS84</td>\n",
       "      <td>PM10 Total 0-10um STP</td>\n",
       "      <td>2021-01-01</td>\n",
       "      <td>...</td>\n",
       "      <td>Micrograms/cubic meter (25 C)</td>\n",
       "      <td>0.1</td>\n",
       "      <td>NaN</td>\n",
       "      <td>NaN</td>\n",
       "      <td>FEM</td>\n",
       "      <td>239</td>\n",
       "      <td>Teledyne API T640X at 16.67 LPM - Broadband sp...</td>\n",
       "      <td>Alabama</td>\n",
       "      <td>Jefferson</td>\n",
       "      <td>2021-04-20</td>\n",
       "    </tr>\n",
       "    <tr>\n",
       "      <th>2</th>\n",
       "      <td>1</td>\n",
       "      <td>73</td>\n",
       "      <td>23</td>\n",
       "      <td>81102</td>\n",
       "      <td>4</td>\n",
       "      <td>33.553056</td>\n",
       "      <td>-86.815</td>\n",
       "      <td>WGS84</td>\n",
       "      <td>PM10 Total 0-10um STP</td>\n",
       "      <td>2021-01-01</td>\n",
       "      <td>...</td>\n",
       "      <td>Micrograms/cubic meter (25 C)</td>\n",
       "      <td>0.1</td>\n",
       "      <td>NaN</td>\n",
       "      <td>NaN</td>\n",
       "      <td>FEM</td>\n",
       "      <td>239</td>\n",
       "      <td>Teledyne API T640X at 16.67 LPM - Broadband sp...</td>\n",
       "      <td>Alabama</td>\n",
       "      <td>Jefferson</td>\n",
       "      <td>2021-04-20</td>\n",
       "    </tr>\n",
       "    <tr>\n",
       "      <th>3</th>\n",
       "      <td>1</td>\n",
       "      <td>73</td>\n",
       "      <td>23</td>\n",
       "      <td>81102</td>\n",
       "      <td>4</td>\n",
       "      <td>33.553056</td>\n",
       "      <td>-86.815</td>\n",
       "      <td>WGS84</td>\n",
       "      <td>PM10 Total 0-10um STP</td>\n",
       "      <td>2021-01-01</td>\n",
       "      <td>...</td>\n",
       "      <td>Micrograms/cubic meter (25 C)</td>\n",
       "      <td>0.1</td>\n",
       "      <td>NaN</td>\n",
       "      <td>NaN</td>\n",
       "      <td>FEM</td>\n",
       "      <td>239</td>\n",
       "      <td>Teledyne API T640X at 16.67 LPM - Broadband sp...</td>\n",
       "      <td>Alabama</td>\n",
       "      <td>Jefferson</td>\n",
       "      <td>2021-04-20</td>\n",
       "    </tr>\n",
       "    <tr>\n",
       "      <th>4</th>\n",
       "      <td>1</td>\n",
       "      <td>73</td>\n",
       "      <td>23</td>\n",
       "      <td>81102</td>\n",
       "      <td>4</td>\n",
       "      <td>33.553056</td>\n",
       "      <td>-86.815</td>\n",
       "      <td>WGS84</td>\n",
       "      <td>PM10 Total 0-10um STP</td>\n",
       "      <td>2021-01-01</td>\n",
       "      <td>...</td>\n",
       "      <td>Micrograms/cubic meter (25 C)</td>\n",
       "      <td>0.1</td>\n",
       "      <td>NaN</td>\n",
       "      <td>NaN</td>\n",
       "      <td>FEM</td>\n",
       "      <td>239</td>\n",
       "      <td>Teledyne API T640X at 16.67 LPM - Broadband sp...</td>\n",
       "      <td>Alabama</td>\n",
       "      <td>Jefferson</td>\n",
       "      <td>2021-04-20</td>\n",
       "    </tr>\n",
       "  </tbody>\n",
       "</table>\n",
       "<p>5 rows × 24 columns</p>\n",
       "</div>"
      ],
      "text/plain": [
       "   State Code  County Code  Site Num  Parameter Code  POC   Latitude  \\\n",
       "0           1           73        23           81102    4  33.553056   \n",
       "1           1           73        23           81102    4  33.553056   \n",
       "2           1           73        23           81102    4  33.553056   \n",
       "3           1           73        23           81102    4  33.553056   \n",
       "4           1           73        23           81102    4  33.553056   \n",
       "\n",
       "   Longitude  Datum         Parameter Name  Date Local  ...  \\\n",
       "0    -86.815  WGS84  PM10 Total 0-10um STP  2021-01-01  ...   \n",
       "1    -86.815  WGS84  PM10 Total 0-10um STP  2021-01-01  ...   \n",
       "2    -86.815  WGS84  PM10 Total 0-10um STP  2021-01-01  ...   \n",
       "3    -86.815  WGS84  PM10 Total 0-10um STP  2021-01-01  ...   \n",
       "4    -86.815  WGS84  PM10 Total 0-10um STP  2021-01-01  ...   \n",
       "\n",
       "                Units of Measure  MDL Uncertainty  Qualifier Method Type  \\\n",
       "0  Micrograms/cubic meter (25 C)  0.1         NaN        NaN         FEM   \n",
       "1  Micrograms/cubic meter (25 C)  0.1         NaN        NaN         FEM   \n",
       "2  Micrograms/cubic meter (25 C)  0.1         NaN        NaN         FEM   \n",
       "3  Micrograms/cubic meter (25 C)  0.1         NaN        NaN         FEM   \n",
       "4  Micrograms/cubic meter (25 C)  0.1         NaN        NaN         FEM   \n",
       "\n",
       "   Method Code                                        Method Name State Name  \\\n",
       "0          239  Teledyne API T640X at 16.67 LPM - Broadband sp...    Alabama   \n",
       "1          239  Teledyne API T640X at 16.67 LPM - Broadband sp...    Alabama   \n",
       "2          239  Teledyne API T640X at 16.67 LPM - Broadband sp...    Alabama   \n",
       "3          239  Teledyne API T640X at 16.67 LPM - Broadband sp...    Alabama   \n",
       "4          239  Teledyne API T640X at 16.67 LPM - Broadband sp...    Alabama   \n",
       "\n",
       "  County Name  Date of Last Change  \n",
       "0   Jefferson           2021-04-20  \n",
       "1   Jefferson           2021-04-20  \n",
       "2   Jefferson           2021-04-20  \n",
       "3   Jefferson           2021-04-20  \n",
       "4   Jefferson           2021-04-20  \n",
       "\n",
       "[5 rows x 24 columns]"
      ]
     },
     "execution_count": 498,
     "metadata": {},
     "output_type": "execute_result"
    }
   ],
   "source": [
    "df_epa.head()"
   ]
  },
  {
   "cell_type": "code",
   "execution_count": 43,
   "id": "a3bab2b3",
   "metadata": {},
   "outputs": [
    {
     "name": "stdout",
     "output_type": "stream",
     "text": [
      "•takes too much time\n",
      "•needed to be easier\n"
     ]
    }
   ],
   "source": [
    "'''import time\n",
    "start_time = time.time()\n",
    "\n",
    "\n",
    "values = {}\n",
    "for ind in (df_Landsat['system:index']):\n",
    "    i = df_Landsat[df_Landsat['system:index'] == ind].index[0]\n",
    "    indexes_date = df_epa[df_epa['Date Local'] == df_Landsat['date'][i]].index\n",
    "    time = pd.Timestamp(df_Landsat['time'][i])\n",
    "    time1 = str((time + pd.Timedelta(hours = -1)).strftime('%H:00'))\n",
    "    time2 = str((time + pd.Timedelta(hours = 1)).strftime('%H:00'))\n",
    "    indexes_time = df_epa[df_epa['Time Local'] == df_Landsat['time'][i]].index\n",
    "    indexes_time1 = df_epa[df_epa['Time Local'] == time1].index\n",
    "    indexes_time2 = df_epa[df_epa['Time Local'] == time2].index\n",
    "    time = indexes_time.append(indexes_time1).append(indexes_time2)\n",
    "    answer = indexes_date.intersection(indexes_time)\n",
    "    indexes_lon = df_epa[np.abs(df_epa['Longitude'] - df_Landsat['longitude'][i]) <= 1].index\n",
    "    answer = answer.intersection(indexes_lon)\n",
    "    indexes_lat = df_epa[np.abs(df_epa['Latitude'] - df_Landsat['latitude'][i]) <= 1].index\n",
    "    answer = answer.intersection(indexes_lat)\n",
    "    values[i] = answer\n",
    "    print(i)\n",
    "\n",
    "end_time = time.time()\n",
    "print(\"Time elapsed: \", end_time - start_time, \"seconds\")'''\n",
    "print('•takes too much time\\n•needed to be easier')"
   ]
  },
  {
   "cell_type": "markdown",
   "id": "38d76941",
   "metadata": {},
   "source": [
    "# Creating Dataset"
   ]
  },
  {
   "cell_type": "code",
   "execution_count": 501,
   "id": "8f48f823",
   "metadata": {},
   "outputs": [
    {
     "name": "stdout",
     "output_type": "stream",
     "text": [
      "2806\n"
     ]
    }
   ],
   "source": [
    "count = 0\n",
    "with open('/Users/artemzaharov/opt/miniconda3/envs/project_gee/data/finalData.csv', 'w') as f:\n",
    "#     f.write('index;lon_Landsat;lat_Landsat;data_Lansat;time_Landsat;lon_Epa;lat_Epa;data_Epa;time_Epa;SR_B1;SR_B2;SR_B3;SR_B4;SR_B5;SR_B6;SR_B7;value_Epa\\n')\n",
    "    f.write('index,SR_B1,SR_B2,SR_B3,SR_B4,SR_B5,SR_B6,SR_B7,value_Epa\\n')\n",
    "    for key, val in values.items():\n",
    "        if (val.any()):\n",
    "            f.write(str(count) + ',') # index\n",
    "#             f.write(str(df_Landsat['longitude'][key]) + ';') # lon_Landsat\n",
    "#             f.write(str(df_Landsat['latitude'][key]) + ';') # lat_Landsat\n",
    "#             f.write(str(df_Landsat['date'][key]) + ';') # data_Lansat\n",
    "#             f.write(str(df_Landsat['time'][key]) + ';') # time_Landsat\n",
    "            \n",
    "#             f.write(str(df_epa['Longitude'][val[0]]) + ';') # lon_Epa\n",
    "#             f.write(str(df_epa['Latitude'][val[0]]) + ';') # lat_Epa\n",
    "#             f.write(str(df_epa['Date Local'][val[0]]) + ';') # data_Epa\n",
    "#             f.write(str(df_epa['Time Local'][val[0]]) + ';') # time_Epa\n",
    "            \n",
    "            f.write(str(df_Landsat['SR_B1'][key]) + ',') # SR_B1\n",
    "            f.write(str(df_Landsat['SR_B2'][key]) + ',') # SR_B2\n",
    "            f.write(str(df_Landsat['SR_B3'][key]) + ',') # SR_B3\n",
    "            f.write(str(df_Landsat['SR_B4'][key]) + ',') # SR_B4\n",
    "            f.write(str(df_Landsat['SR_B5'][key]) + ',') # SR_B5\n",
    "            f.write(str(df_Landsat['SR_B6'][key]) + ',') # SR_B6\n",
    "            f.write(str(df_Landsat['SR_B7'][key]) + ',') # SR_B7\n",
    "            \n",
    "            # Sample Measurement of PM10\n",
    "            f.write(str(df_epa['Sample Measurement'][val[0]]) + '\\n')\n",
    "            count += 1\n",
    "print(count)"
   ]
  },
  {
   "cell_type": "code",
   "execution_count": 477,
   "id": "2ab14158",
   "metadata": {},
   "outputs": [
    {
     "data": {
      "text/html": [
       "<div>\n",
       "<style scoped>\n",
       "    .dataframe tbody tr th:only-of-type {\n",
       "        vertical-align: middle;\n",
       "    }\n",
       "\n",
       "    .dataframe tbody tr th {\n",
       "        vertical-align: top;\n",
       "    }\n",
       "\n",
       "    .dataframe thead th {\n",
       "        text-align: right;\n",
       "    }\n",
       "</style>\n",
       "<table border=\"1\" class=\"dataframe\">\n",
       "  <thead>\n",
       "    <tr style=\"text-align: right;\">\n",
       "      <th></th>\n",
       "      <th>index</th>\n",
       "      <th>SR_B1</th>\n",
       "      <th>SR_B2</th>\n",
       "      <th>SR_B3</th>\n",
       "      <th>SR_B4</th>\n",
       "      <th>SR_B5</th>\n",
       "      <th>SR_B6</th>\n",
       "      <th>SR_B7</th>\n",
       "      <th>value_Epa</th>\n",
       "    </tr>\n",
       "  </thead>\n",
       "  <tbody>\n",
       "    <tr>\n",
       "      <th>0</th>\n",
       "      <td>0</td>\n",
       "      <td>0.055365</td>\n",
       "      <td>0.084817</td>\n",
       "      <td>0.144575</td>\n",
       "      <td>0.161268</td>\n",
       "      <td>0.178207</td>\n",
       "      <td>0.218825</td>\n",
       "      <td>0.213188</td>\n",
       "      <td>36.0</td>\n",
       "    </tr>\n",
       "    <tr>\n",
       "      <th>1</th>\n",
       "      <td>1</td>\n",
       "      <td>0.640950</td>\n",
       "      <td>0.625522</td>\n",
       "      <td>0.592165</td>\n",
       "      <td>0.586665</td>\n",
       "      <td>0.603880</td>\n",
       "      <td>0.217477</td>\n",
       "      <td>0.233950</td>\n",
       "      <td>8.2</td>\n",
       "    </tr>\n",
       "    <tr>\n",
       "      <th>2</th>\n",
       "      <td>2</td>\n",
       "      <td>0.692182</td>\n",
       "      <td>0.691577</td>\n",
       "      <td>0.612955</td>\n",
       "      <td>0.622003</td>\n",
       "      <td>0.686243</td>\n",
       "      <td>0.446580</td>\n",
       "      <td>0.350605</td>\n",
       "      <td>8.1</td>\n",
       "    </tr>\n",
       "    <tr>\n",
       "      <th>3</th>\n",
       "      <td>3</td>\n",
       "      <td>0.050855</td>\n",
       "      <td>0.060260</td>\n",
       "      <td>0.090510</td>\n",
       "      <td>0.095762</td>\n",
       "      <td>0.243053</td>\n",
       "      <td>0.192233</td>\n",
       "      <td>0.137508</td>\n",
       "      <td>16.2</td>\n",
       "    </tr>\n",
       "    <tr>\n",
       "      <th>4</th>\n",
       "      <td>4</td>\n",
       "      <td>0.030807</td>\n",
       "      <td>0.037738</td>\n",
       "      <td>0.070490</td>\n",
       "      <td>0.056437</td>\n",
       "      <td>0.280975</td>\n",
       "      <td>0.164100</td>\n",
       "      <td>0.107862</td>\n",
       "      <td>16.2</td>\n",
       "    </tr>\n",
       "  </tbody>\n",
       "</table>\n",
       "</div>"
      ],
      "text/plain": [
       "   index     SR_B1     SR_B2     SR_B3     SR_B4     SR_B5     SR_B6  \\\n",
       "0      0  0.055365  0.084817  0.144575  0.161268  0.178207  0.218825   \n",
       "1      1  0.640950  0.625522  0.592165  0.586665  0.603880  0.217477   \n",
       "2      2  0.692182  0.691577  0.612955  0.622003  0.686243  0.446580   \n",
       "3      3  0.050855  0.060260  0.090510  0.095762  0.243053  0.192233   \n",
       "4      4  0.030807  0.037738  0.070490  0.056437  0.280975  0.164100   \n",
       "\n",
       "      SR_B7  value_Epa  \n",
       "0  0.213188       36.0  \n",
       "1  0.233950        8.2  \n",
       "2  0.350605        8.1  \n",
       "3  0.137508       16.2  \n",
       "4  0.107862       16.2  "
      ]
     },
     "execution_count": 477,
     "metadata": {},
     "output_type": "execute_result"
    }
   ],
   "source": [
    "df = pd.read_csv('/Users/artemzaharov/opt/miniconda3/envs/project_gee/data/finalData.csv')\n",
    "df.head() # separator should be ','"
   ]
  },
  {
   "cell_type": "markdown",
   "id": "c0e3f53e",
   "metadata": {},
   "source": [
    "## **Preparing Data as X and Y**"
   ]
  },
  {
   "cell_type": "code",
   "execution_count": 478,
   "id": "6c58d6ce",
   "metadata": {},
   "outputs": [],
   "source": [
    "y = df['value_Epa']\n",
    "\n",
    "x = df.drop('value_Epa', axis = 1)"
   ]
  },
  {
   "cell_type": "markdown",
   "id": "b8f53fee",
   "metadata": {},
   "source": [
    "## Spliting data"
   ]
  },
  {
   "cell_type": "code",
   "execution_count": 479,
   "id": "9f5e3b8a",
   "metadata": {},
   "outputs": [],
   "source": [
    "from sklearn.model_selection import train_test_split\n",
    "\n",
    "x_train, x_test, y_train, y_test = train_test_split(x, y, test_size = 0.2, random_state = 100)"
   ]
  },
  {
   "cell_type": "markdown",
   "id": "e99ee699",
   "metadata": {},
   "source": [
    "# Buinding \"Linear Regression\" Model"
   ]
  },
  {
   "cell_type": "markdown",
   "id": "f3ff0655",
   "metadata": {},
   "source": [
    "## Training model"
   ]
  },
  {
   "cell_type": "code",
   "execution_count": 480,
   "id": "036dc3c7",
   "metadata": {},
   "outputs": [
    {
     "data": {
      "text/html": [
       "<style>#sk-container-id-14 {color: black;background-color: white;}#sk-container-id-14 pre{padding: 0;}#sk-container-id-14 div.sk-toggleable {background-color: white;}#sk-container-id-14 label.sk-toggleable__label {cursor: pointer;display: block;width: 100%;margin-bottom: 0;padding: 0.3em;box-sizing: border-box;text-align: center;}#sk-container-id-14 label.sk-toggleable__label-arrow:before {content: \"▸\";float: left;margin-right: 0.25em;color: #696969;}#sk-container-id-14 label.sk-toggleable__label-arrow:hover:before {color: black;}#sk-container-id-14 div.sk-estimator:hover label.sk-toggleable__label-arrow:before {color: black;}#sk-container-id-14 div.sk-toggleable__content {max-height: 0;max-width: 0;overflow: hidden;text-align: left;background-color: #f0f8ff;}#sk-container-id-14 div.sk-toggleable__content pre {margin: 0.2em;color: black;border-radius: 0.25em;background-color: #f0f8ff;}#sk-container-id-14 input.sk-toggleable__control:checked~div.sk-toggleable__content {max-height: 200px;max-width: 100%;overflow: auto;}#sk-container-id-14 input.sk-toggleable__control:checked~label.sk-toggleable__label-arrow:before {content: \"▾\";}#sk-container-id-14 div.sk-estimator input.sk-toggleable__control:checked~label.sk-toggleable__label {background-color: #d4ebff;}#sk-container-id-14 div.sk-label input.sk-toggleable__control:checked~label.sk-toggleable__label {background-color: #d4ebff;}#sk-container-id-14 input.sk-hidden--visually {border: 0;clip: rect(1px 1px 1px 1px);clip: rect(1px, 1px, 1px, 1px);height: 1px;margin: -1px;overflow: hidden;padding: 0;position: absolute;width: 1px;}#sk-container-id-14 div.sk-estimator {font-family: monospace;background-color: #f0f8ff;border: 1px dotted black;border-radius: 0.25em;box-sizing: border-box;margin-bottom: 0.5em;}#sk-container-id-14 div.sk-estimator:hover {background-color: #d4ebff;}#sk-container-id-14 div.sk-parallel-item::after {content: \"\";width: 100%;border-bottom: 1px solid gray;flex-grow: 1;}#sk-container-id-14 div.sk-label:hover label.sk-toggleable__label {background-color: #d4ebff;}#sk-container-id-14 div.sk-serial::before {content: \"\";position: absolute;border-left: 1px solid gray;box-sizing: border-box;top: 0;bottom: 0;left: 50%;z-index: 0;}#sk-container-id-14 div.sk-serial {display: flex;flex-direction: column;align-items: center;background-color: white;padding-right: 0.2em;padding-left: 0.2em;position: relative;}#sk-container-id-14 div.sk-item {position: relative;z-index: 1;}#sk-container-id-14 div.sk-parallel {display: flex;align-items: stretch;justify-content: center;background-color: white;position: relative;}#sk-container-id-14 div.sk-item::before, #sk-container-id-14 div.sk-parallel-item::before {content: \"\";position: absolute;border-left: 1px solid gray;box-sizing: border-box;top: 0;bottom: 0;left: 50%;z-index: -1;}#sk-container-id-14 div.sk-parallel-item {display: flex;flex-direction: column;z-index: 1;position: relative;background-color: white;}#sk-container-id-14 div.sk-parallel-item:first-child::after {align-self: flex-end;width: 50%;}#sk-container-id-14 div.sk-parallel-item:last-child::after {align-self: flex-start;width: 50%;}#sk-container-id-14 div.sk-parallel-item:only-child::after {width: 0;}#sk-container-id-14 div.sk-dashed-wrapped {border: 1px dashed gray;margin: 0 0.4em 0.5em 0.4em;box-sizing: border-box;padding-bottom: 0.4em;background-color: white;}#sk-container-id-14 div.sk-label label {font-family: monospace;font-weight: bold;display: inline-block;line-height: 1.2em;}#sk-container-id-14 div.sk-label-container {text-align: center;}#sk-container-id-14 div.sk-container {/* jupyter's `normalize.less` sets `[hidden] { display: none; }` but bootstrap.min.css set `[hidden] { display: none !important; }` so we also need the `!important` here to be able to override the default hidden behavior on the sphinx rendered scikit-learn.org. See: https://github.com/scikit-learn/scikit-learn/issues/21755 */display: inline-block !important;position: relative;}#sk-container-id-14 div.sk-text-repr-fallback {display: none;}</style><div id=\"sk-container-id-14\" class=\"sk-top-container\"><div class=\"sk-text-repr-fallback\"><pre>LinearRegression()</pre><b>In a Jupyter environment, please rerun this cell to show the HTML representation or trust the notebook. <br />On GitHub, the HTML representation is unable to render, please try loading this page with nbviewer.org.</b></div><div class=\"sk-container\" hidden><div class=\"sk-item\"><div class=\"sk-estimator sk-toggleable\"><input class=\"sk-toggleable__control sk-hidden--visually\" id=\"sk-estimator-id-14\" type=\"checkbox\" checked><label for=\"sk-estimator-id-14\" class=\"sk-toggleable__label sk-toggleable__label-arrow\">LinearRegression</label><div class=\"sk-toggleable__content\"><pre>LinearRegression()</pre></div></div></div></div></div>"
      ],
      "text/plain": [
       "LinearRegression()"
      ]
     },
     "execution_count": 480,
     "metadata": {},
     "output_type": "execute_result"
    }
   ],
   "source": [
    "from sklearn.linear_model import LinearRegression\n",
    "\n",
    "lr = LinearRegression()\n",
    "lr.fit(x_train, y_train)"
   ]
  },
  {
   "cell_type": "markdown",
   "id": "f9d491d4",
   "metadata": {},
   "source": [
    "## Applying the model to make prediction"
   ]
  },
  {
   "cell_type": "code",
   "execution_count": 481,
   "id": "1bd3cbe2",
   "metadata": {},
   "outputs": [],
   "source": [
    "y_lr_train_pred = lr.predict(x_train)\n",
    "y_lr_test_pred = lr.predict(x_test)"
   ]
  },
  {
   "cell_type": "markdown",
   "id": "868dda0b",
   "metadata": {},
   "source": [
    "## Evaluate model performance "
   ]
  },
  {
   "cell_type": "code",
   "execution_count": 482,
   "id": "a90dfa68",
   "metadata": {},
   "outputs": [],
   "source": [
    "from sklearn.metrics import mean_squared_error, r2_score\n",
    "\n",
    "lr_train_mse = mean_squared_error(y_train, y_lr_train_pred)\n",
    "lr_train_r2 = r2_score(y_train, y_lr_train_pred)\n",
    "\n",
    "lr_test_mse = mean_squared_error(y_test, y_lr_test_pred)\n",
    "lr_test_r2 = r2_score(y_test, y_lr_test_pred)"
   ]
  },
  {
   "cell_type": "code",
   "execution_count": 483,
   "id": "0485907f",
   "metadata": {},
   "outputs": [
    {
     "data": {
      "text/html": [
       "<div>\n",
       "<style scoped>\n",
       "    .dataframe tbody tr th:only-of-type {\n",
       "        vertical-align: middle;\n",
       "    }\n",
       "\n",
       "    .dataframe tbody tr th {\n",
       "        vertical-align: top;\n",
       "    }\n",
       "\n",
       "    .dataframe thead th {\n",
       "        text-align: right;\n",
       "    }\n",
       "</style>\n",
       "<table border=\"1\" class=\"dataframe\">\n",
       "  <thead>\n",
       "    <tr style=\"text-align: right;\">\n",
       "      <th></th>\n",
       "      <th>Method</th>\n",
       "      <th>Training MSE</th>\n",
       "      <th>Training R2</th>\n",
       "      <th>Test MSE</th>\n",
       "      <th>Test R2</th>\n",
       "    </tr>\n",
       "  </thead>\n",
       "  <tbody>\n",
       "    <tr>\n",
       "      <th>0</th>\n",
       "      <td>Linear regression</td>\n",
       "      <td>162.518657</td>\n",
       "      <td>0.056291</td>\n",
       "      <td>201.037277</td>\n",
       "      <td>0.020074</td>\n",
       "    </tr>\n",
       "  </tbody>\n",
       "</table>\n",
       "</div>"
      ],
      "text/plain": [
       "              Method Training MSE Training R2    Test MSE   Test R2\n",
       "0  Linear regression   162.518657    0.056291  201.037277  0.020074"
      ]
     },
     "execution_count": 483,
     "metadata": {},
     "output_type": "execute_result"
    }
   ],
   "source": [
    "lr_results = pd.DataFrame(['Linear regression', lr_train_mse, lr_train_r2, lr_test_mse, lr_test_r2]).transpose()\n",
    "lr_results.columns = ['Method', 'Training MSE', 'Training R2', 'Test MSE', 'Test R2']\n",
    "lr_results"
   ]
  },
  {
   "cell_type": "markdown",
   "id": "8df55ab6",
   "metadata": {},
   "source": [
    "# Building \"Random Forest\" Model"
   ]
  },
  {
   "cell_type": "markdown",
   "id": "6a98eb5a",
   "metadata": {},
   "source": [
    "## Training model"
   ]
  },
  {
   "cell_type": "code",
   "execution_count": 484,
   "id": "543bbce1",
   "metadata": {},
   "outputs": [
    {
     "data": {
      "text/html": [
       "<style>#sk-container-id-15 {color: black;background-color: white;}#sk-container-id-15 pre{padding: 0;}#sk-container-id-15 div.sk-toggleable {background-color: white;}#sk-container-id-15 label.sk-toggleable__label {cursor: pointer;display: block;width: 100%;margin-bottom: 0;padding: 0.3em;box-sizing: border-box;text-align: center;}#sk-container-id-15 label.sk-toggleable__label-arrow:before {content: \"▸\";float: left;margin-right: 0.25em;color: #696969;}#sk-container-id-15 label.sk-toggleable__label-arrow:hover:before {color: black;}#sk-container-id-15 div.sk-estimator:hover label.sk-toggleable__label-arrow:before {color: black;}#sk-container-id-15 div.sk-toggleable__content {max-height: 0;max-width: 0;overflow: hidden;text-align: left;background-color: #f0f8ff;}#sk-container-id-15 div.sk-toggleable__content pre {margin: 0.2em;color: black;border-radius: 0.25em;background-color: #f0f8ff;}#sk-container-id-15 input.sk-toggleable__control:checked~div.sk-toggleable__content {max-height: 200px;max-width: 100%;overflow: auto;}#sk-container-id-15 input.sk-toggleable__control:checked~label.sk-toggleable__label-arrow:before {content: \"▾\";}#sk-container-id-15 div.sk-estimator input.sk-toggleable__control:checked~label.sk-toggleable__label {background-color: #d4ebff;}#sk-container-id-15 div.sk-label input.sk-toggleable__control:checked~label.sk-toggleable__label {background-color: #d4ebff;}#sk-container-id-15 input.sk-hidden--visually {border: 0;clip: rect(1px 1px 1px 1px);clip: rect(1px, 1px, 1px, 1px);height: 1px;margin: -1px;overflow: hidden;padding: 0;position: absolute;width: 1px;}#sk-container-id-15 div.sk-estimator {font-family: monospace;background-color: #f0f8ff;border: 1px dotted black;border-radius: 0.25em;box-sizing: border-box;margin-bottom: 0.5em;}#sk-container-id-15 div.sk-estimator:hover {background-color: #d4ebff;}#sk-container-id-15 div.sk-parallel-item::after {content: \"\";width: 100%;border-bottom: 1px solid gray;flex-grow: 1;}#sk-container-id-15 div.sk-label:hover label.sk-toggleable__label {background-color: #d4ebff;}#sk-container-id-15 div.sk-serial::before {content: \"\";position: absolute;border-left: 1px solid gray;box-sizing: border-box;top: 0;bottom: 0;left: 50%;z-index: 0;}#sk-container-id-15 div.sk-serial {display: flex;flex-direction: column;align-items: center;background-color: white;padding-right: 0.2em;padding-left: 0.2em;position: relative;}#sk-container-id-15 div.sk-item {position: relative;z-index: 1;}#sk-container-id-15 div.sk-parallel {display: flex;align-items: stretch;justify-content: center;background-color: white;position: relative;}#sk-container-id-15 div.sk-item::before, #sk-container-id-15 div.sk-parallel-item::before {content: \"\";position: absolute;border-left: 1px solid gray;box-sizing: border-box;top: 0;bottom: 0;left: 50%;z-index: -1;}#sk-container-id-15 div.sk-parallel-item {display: flex;flex-direction: column;z-index: 1;position: relative;background-color: white;}#sk-container-id-15 div.sk-parallel-item:first-child::after {align-self: flex-end;width: 50%;}#sk-container-id-15 div.sk-parallel-item:last-child::after {align-self: flex-start;width: 50%;}#sk-container-id-15 div.sk-parallel-item:only-child::after {width: 0;}#sk-container-id-15 div.sk-dashed-wrapped {border: 1px dashed gray;margin: 0 0.4em 0.5em 0.4em;box-sizing: border-box;padding-bottom: 0.4em;background-color: white;}#sk-container-id-15 div.sk-label label {font-family: monospace;font-weight: bold;display: inline-block;line-height: 1.2em;}#sk-container-id-15 div.sk-label-container {text-align: center;}#sk-container-id-15 div.sk-container {/* jupyter's `normalize.less` sets `[hidden] { display: none; }` but bootstrap.min.css set `[hidden] { display: none !important; }` so we also need the `!important` here to be able to override the default hidden behavior on the sphinx rendered scikit-learn.org. See: https://github.com/scikit-learn/scikit-learn/issues/21755 */display: inline-block !important;position: relative;}#sk-container-id-15 div.sk-text-repr-fallback {display: none;}</style><div id=\"sk-container-id-15\" class=\"sk-top-container\"><div class=\"sk-text-repr-fallback\"><pre>RandomForestRegressor(max_depth=2, random_state=100)</pre><b>In a Jupyter environment, please rerun this cell to show the HTML representation or trust the notebook. <br />On GitHub, the HTML representation is unable to render, please try loading this page with nbviewer.org.</b></div><div class=\"sk-container\" hidden><div class=\"sk-item\"><div class=\"sk-estimator sk-toggleable\"><input class=\"sk-toggleable__control sk-hidden--visually\" id=\"sk-estimator-id-15\" type=\"checkbox\" checked><label for=\"sk-estimator-id-15\" class=\"sk-toggleable__label sk-toggleable__label-arrow\">RandomForestRegressor</label><div class=\"sk-toggleable__content\"><pre>RandomForestRegressor(max_depth=2, random_state=100)</pre></div></div></div></div></div>"
      ],
      "text/plain": [
       "RandomForestRegressor(max_depth=2, random_state=100)"
      ]
     },
     "execution_count": 484,
     "metadata": {},
     "output_type": "execute_result"
    }
   ],
   "source": [
    "from sklearn.ensemble import RandomForestRegressor\n",
    "\n",
    "rf = RandomForestRegressor(max_depth = 2, random_state = 100)\n",
    "rf.fit(x_train, y_train)"
   ]
  },
  {
   "cell_type": "markdown",
   "id": "e76553f2",
   "metadata": {},
   "source": [
    "## Applying the model to make prediction"
   ]
  },
  {
   "cell_type": "code",
   "execution_count": 485,
   "id": "474c29d0",
   "metadata": {
    "scrolled": true
   },
   "outputs": [],
   "source": [
    "y_rf_train_pred = rf.predict(x_train)\n",
    "y_rf_test_pred = rf.predict(x_test)\n"
   ]
  },
  {
   "cell_type": "markdown",
   "id": "43232611",
   "metadata": {},
   "source": [
    "## Evaluate model performance "
   ]
  },
  {
   "cell_type": "code",
   "execution_count": 486,
   "id": "4ce807b9",
   "metadata": {},
   "outputs": [],
   "source": [
    "from sklearn.metrics import mean_squared_error, r2_score\n",
    "\n",
    "rf_train_mse = mean_squared_error(y_train, y_rf_train_pred)\n",
    "rf_train_r2 = r2_score(y_train, y_rf_train_pred)\n",
    "\n",
    "rf_test_mse = mean_squared_error(y_test, y_rf_test_pred)\n",
    "rf_test_r2 = r2_score(y_test, y_rf_test_pred)"
   ]
  },
  {
   "cell_type": "code",
   "execution_count": 487,
   "id": "c374c074",
   "metadata": {},
   "outputs": [
    {
     "data": {
      "text/html": [
       "<div>\n",
       "<style scoped>\n",
       "    .dataframe tbody tr th:only-of-type {\n",
       "        vertical-align: middle;\n",
       "    }\n",
       "\n",
       "    .dataframe tbody tr th {\n",
       "        vertical-align: top;\n",
       "    }\n",
       "\n",
       "    .dataframe thead th {\n",
       "        text-align: right;\n",
       "    }\n",
       "</style>\n",
       "<table border=\"1\" class=\"dataframe\">\n",
       "  <thead>\n",
       "    <tr style=\"text-align: right;\">\n",
       "      <th></th>\n",
       "      <th>Method</th>\n",
       "      <th>Training MSE</th>\n",
       "      <th>Training R2</th>\n",
       "      <th>Test MSE</th>\n",
       "      <th>Test R2</th>\n",
       "    </tr>\n",
       "  </thead>\n",
       "  <tbody>\n",
       "    <tr>\n",
       "      <th>0</th>\n",
       "      <td>Random forest</td>\n",
       "      <td>152.581068</td>\n",
       "      <td>0.113996</td>\n",
       "      <td>196.299409</td>\n",
       "      <td>0.043168</td>\n",
       "    </tr>\n",
       "  </tbody>\n",
       "</table>\n",
       "</div>"
      ],
      "text/plain": [
       "          Method Training MSE Training R2    Test MSE   Test R2\n",
       "0  Random forest   152.581068    0.113996  196.299409  0.043168"
      ]
     },
     "execution_count": 487,
     "metadata": {},
     "output_type": "execute_result"
    }
   ],
   "source": [
    "rf_results = pd.DataFrame(['Random forest', rf_train_mse, rf_train_r2, rf_test_mse, rf_test_r2]).transpose()\n",
    "rf_results.columns = ['Method', 'Training MSE', 'Training R2', 'Test MSE', 'Test R2']\n",
    "rf_results"
   ]
  },
  {
   "cell_type": "markdown",
   "id": "f4b8aa1c",
   "metadata": {},
   "source": [
    "# Models Accuracy"
   ]
  },
  {
   "cell_type": "code",
   "execution_count": 488,
   "id": "757a95c9",
   "metadata": {},
   "outputs": [
    {
     "data": {
      "text/html": [
       "<div>\n",
       "<style scoped>\n",
       "    .dataframe tbody tr th:only-of-type {\n",
       "        vertical-align: middle;\n",
       "    }\n",
       "\n",
       "    .dataframe tbody tr th {\n",
       "        vertical-align: top;\n",
       "    }\n",
       "\n",
       "    .dataframe thead th {\n",
       "        text-align: right;\n",
       "    }\n",
       "</style>\n",
       "<table border=\"1\" class=\"dataframe\">\n",
       "  <thead>\n",
       "    <tr style=\"text-align: right;\">\n",
       "      <th></th>\n",
       "      <th>Method</th>\n",
       "      <th>Training MSE</th>\n",
       "      <th>Training R2</th>\n",
       "      <th>Test MSE</th>\n",
       "      <th>Test R2</th>\n",
       "    </tr>\n",
       "  </thead>\n",
       "  <tbody>\n",
       "    <tr>\n",
       "      <th>0</th>\n",
       "      <td>Linear regression</td>\n",
       "      <td>162.518657</td>\n",
       "      <td>0.056291</td>\n",
       "      <td>201.037277</td>\n",
       "      <td>0.020074</td>\n",
       "    </tr>\n",
       "    <tr>\n",
       "      <th>1</th>\n",
       "      <td>Random forest</td>\n",
       "      <td>152.581068</td>\n",
       "      <td>0.113996</td>\n",
       "      <td>196.299409</td>\n",
       "      <td>0.043168</td>\n",
       "    </tr>\n",
       "  </tbody>\n",
       "</table>\n",
       "</div>"
      ],
      "text/plain": [
       "              Method Training MSE Training R2    Test MSE   Test R2\n",
       "0  Linear regression   162.518657    0.056291  201.037277  0.020074\n",
       "1      Random forest   152.581068    0.113996  196.299409  0.043168"
      ]
     },
     "execution_count": 488,
     "metadata": {},
     "output_type": "execute_result"
    }
   ],
   "source": [
    "df_models = pd.concat([lr_results, rf_results], axis = 0).reset_index(drop = True)\n",
    "df_models"
   ]
  },
  {
   "cell_type": "code",
   "execution_count": 489,
   "id": "d70cf6ef",
   "metadata": {},
   "outputs": [
    {
     "data": {
      "text/plain": [
       "[]"
      ]
     },
     "execution_count": 489,
     "metadata": {},
     "output_type": "execute_result"
    },
    {
     "data": {
      "image/png": "[encoded data removed]",
      "text/plain": [
       "<Figure size 640x480 with 1 Axes>"
      ]
     },
     "metadata": {},
     "output_type": "display_data"
    }
   ],
   "source": [
    "import matplotlib.pyplot as plt\n",
    "\n",
    "plt.scatter(x = y_train, y = y_lr_train_pred, alpha = 0.3)\n",
    "plt.ylabel('Predict Value')\n",
    "plt.xlabel('Experimental Value')\n",
    "plt.plot()"
   ]
  },
  {
   "cell_type": "code",
   "execution_count": 493,
   "id": "b7795f4e",
   "metadata": {},
   "outputs": [
    {
     "data": {
      "text/html": [
       "<div>\n",
       "<style scoped>\n",
       "    .dataframe tbody tr th:only-of-type {\n",
       "        vertical-align: middle;\n",
       "    }\n",
       "\n",
       "    .dataframe tbody tr th {\n",
       "        vertical-align: top;\n",
       "    }\n",
       "\n",
       "    .dataframe thead th {\n",
       "        text-align: right;\n",
       "    }\n",
       "</style>\n",
       "<table border=\"1\" class=\"dataframe\">\n",
       "  <thead>\n",
       "    <tr style=\"text-align: right;\">\n",
       "      <th></th>\n",
       "      <th>index</th>\n",
       "      <th>SR_B1</th>\n",
       "      <th>SR_B2</th>\n",
       "      <th>SR_B3</th>\n",
       "      <th>SR_B4</th>\n",
       "      <th>SR_B5</th>\n",
       "      <th>SR_B6</th>\n",
       "      <th>SR_B7</th>\n",
       "      <th>value_Epa</th>\n",
       "    </tr>\n",
       "  </thead>\n",
       "  <tbody>\n",
       "    <tr>\n",
       "      <th>count</th>\n",
       "      <td>2806.000000</td>\n",
       "      <td>2806.000000</td>\n",
       "      <td>2806.000000</td>\n",
       "      <td>2806.000000</td>\n",
       "      <td>2806.000000</td>\n",
       "      <td>2806.000000</td>\n",
       "      <td>2806.000000</td>\n",
       "      <td>2806.000000</td>\n",
       "      <td>2806.000000</td>\n",
       "    </tr>\n",
       "    <tr>\n",
       "      <th>mean</th>\n",
       "      <td>1402.500000</td>\n",
       "      <td>0.153581</td>\n",
       "      <td>0.166640</td>\n",
       "      <td>0.198305</td>\n",
       "      <td>0.205029</td>\n",
       "      <td>0.315147</td>\n",
       "      <td>0.239900</td>\n",
       "      <td>0.190198</td>\n",
       "      <td>24.277726</td>\n",
       "    </tr>\n",
       "    <tr>\n",
       "      <th>std</th>\n",
       "      <td>810.166752</td>\n",
       "      <td>0.213073</td>\n",
       "      <td>0.206518</td>\n",
       "      <td>0.186181</td>\n",
       "      <td>0.185277</td>\n",
       "      <td>0.166376</td>\n",
       "      <td>0.113308</td>\n",
       "      <td>0.094567</td>\n",
       "      <td>13.374432</td>\n",
       "    </tr>\n",
       "    <tr>\n",
       "      <th>min</th>\n",
       "      <td>0.000000</td>\n",
       "      <td>-0.199615</td>\n",
       "      <td>-0.136832</td>\n",
       "      <td>-0.077900</td>\n",
       "      <td>-0.047375</td>\n",
       "      <td>0.003362</td>\n",
       "      <td>0.008120</td>\n",
       "      <td>0.006745</td>\n",
       "      <td>2.000000</td>\n",
       "    </tr>\n",
       "    <tr>\n",
       "      <th>25%</th>\n",
       "      <td>701.250000</td>\n",
       "      <td>0.045774</td>\n",
       "      <td>0.060700</td>\n",
       "      <td>0.096340</td>\n",
       "      <td>0.102067</td>\n",
       "      <td>0.211558</td>\n",
       "      <td>0.171559</td>\n",
       "      <td>0.134936</td>\n",
       "      <td>16.000000</td>\n",
       "    </tr>\n",
       "    <tr>\n",
       "      <th>50%</th>\n",
       "      <td>1402.500000</td>\n",
       "      <td>0.071054</td>\n",
       "      <td>0.088599</td>\n",
       "      <td>0.130357</td>\n",
       "      <td>0.142059</td>\n",
       "      <td>0.271377</td>\n",
       "      <td>0.207028</td>\n",
       "      <td>0.166162</td>\n",
       "      <td>22.000000</td>\n",
       "    </tr>\n",
       "    <tr>\n",
       "      <th>75%</th>\n",
       "      <td>2103.750000</td>\n",
       "      <td>0.136737</td>\n",
       "      <td>0.155699</td>\n",
       "      <td>0.197066</td>\n",
       "      <td>0.211792</td>\n",
       "      <td>0.356483</td>\n",
       "      <td>0.267741</td>\n",
       "      <td>0.213215</td>\n",
       "      <td>29.000000</td>\n",
       "    </tr>\n",
       "    <tr>\n",
       "      <th>max</th>\n",
       "      <td>2805.000000</td>\n",
       "      <td>1.218643</td>\n",
       "      <td>1.209403</td>\n",
       "      <td>1.171947</td>\n",
       "      <td>1.159985</td>\n",
       "      <td>1.160893</td>\n",
       "      <td>0.873655</td>\n",
       "      <td>0.691715</td>\n",
       "      <td>198.000000</td>\n",
       "    </tr>\n",
       "  </tbody>\n",
       "</table>\n",
       "</div>"
      ],
      "text/plain": [
       "             index        SR_B1        SR_B2        SR_B3        SR_B4  \\\n",
       "count  2806.000000  2806.000000  2806.000000  2806.000000  2806.000000   \n",
       "mean   1402.500000     0.153581     0.166640     0.198305     0.205029   \n",
       "std     810.166752     0.213073     0.206518     0.186181     0.185277   \n",
       "min       0.000000    -0.199615    -0.136832    -0.077900    -0.047375   \n",
       "25%     701.250000     0.045774     0.060700     0.096340     0.102067   \n",
       "50%    1402.500000     0.071054     0.088599     0.130357     0.142059   \n",
       "75%    2103.750000     0.136737     0.155699     0.197066     0.211792   \n",
       "max    2805.000000     1.218643     1.209403     1.171947     1.159985   \n",
       "\n",
       "             SR_B5        SR_B6        SR_B7    value_Epa  \n",
       "count  2806.000000  2806.000000  2806.000000  2806.000000  \n",
       "mean      0.315147     0.239900     0.190198    24.277726  \n",
       "std       0.166376     0.113308     0.094567    13.374432  \n",
       "min       0.003362     0.008120     0.006745     2.000000  \n",
       "25%       0.211558     0.171559     0.134936    16.000000  \n",
       "50%       0.271377     0.207028     0.166162    22.000000  \n",
       "75%       0.356483     0.267741     0.213215    29.000000  \n",
       "max       1.160893     0.873655     0.691715   198.000000  "
      ]
     },
     "execution_count": 493,
     "metadata": {},
     "output_type": "execute_result"
    }
   ],
   "source": [
    "df.describe()"
   ]
  },
  {
   "cell_type": "code",
   "execution_count": null,
   "id": "f31ce96a",
   "metadata": {},
   "outputs": [],
   "source": []
  }
 ],
 "metadata": {
  "kernelspec": {
   "display_name": "Python 3 (ipykernel)",
   "language": "python",
   "name": "python3"
  },
  "language_info": {
   "codemirror_mode": {
    "name": "ipython",
    "version": 3
   },
   "file_extension": ".py",
   "mimetype": "text/x-python",
   "name": "python",
   "nbconvert_exporter": "python",
   "pygments_lexer": "ipython3",
   "version": "3.8.15"
  },
  "vscode": {
   "interpreter": {
    "hash": "5c7b89af1651d0b8571dde13640ecdccf7d5a6204171d6ab33e7c296e100e08a"
   }
  }
 },
 "nbformat": 4,
 "nbformat_minor": 5
}
